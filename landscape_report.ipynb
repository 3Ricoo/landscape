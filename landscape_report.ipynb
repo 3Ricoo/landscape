{
 "cells": [
  {
   "cell_type": "markdown",
   "metadata": {},
   "source": [
    "# Hopland Related Work\n"
   ]
  },
  {
   "cell_type": "markdown",
   "metadata": {},
   "source": [
    "## Data resource\n"
   ]
  },
  {
   "cell_type": "markdown",
   "metadata": {},
   "source": [
    "* __Guo2010:__ \n",
    "\n",
    "Data type: qPCR\n",
    "\n",
    "Source: Guo G, Huss M, Tong GQ, et al. Resolution of Cell Fate Decisions Revealed by Single-Cell Gene Expression Analysis from Zygote to Blastocyst. Dev Cell. 2010. <doi:10.1016/j.devcel.2010.02.012.>\n",
    "\n",
    "\n",
    "Number of cells: 438<br> \n",
    "Number of genes: 48\n",
    "\n",
    "Description: Early mouse embryonic development\n",
    "\n",
    "Stages: 1-cell, 2-cell, 4-cell, 8-cell, 16-cell, 32-cell, 64-cell stages\n",
    "\n",
    "Preprocessing: normalized \n"
   ]
  },
  {
   "cell_type": "markdown",
   "metadata": {},
   "source": [
    "* __Deng2014:__\n",
    "\n",
    "\n",
    "Data type: scRNA-seq\n",
    "\n",
    "Source: Deng Q, Ramsköld D, Reinius B, et al. Single-Cell RNA-Seq Reveals Dynamic, Random Monoallelic Gene Expression in Mammalian Cells. Science (80- ). 2014;343(6167):193-196. <oi:10.1126/science.1245316.>\n",
    "\n",
    "\n",
    "\n",
    "We collected this dataset from SCUBA sample data:\n",
    "\n",
    "Number of cells: 317<br> \n",
    "Number of genes: 1000\n",
    "\n",
    "Description: Mouse preimplantation embryos development\n",
    "\n",
    "Stages: Zygote, 2-cell embryo, Early 2-cell blastomere, Mid 2-cell blastomere, 4-cell blastomere, 8-cell blastomere, 16-cell blastomere,  Early blastocyst cell, Mid blastocyst cell, Late blastocyst cell, fibroblast, adult liver\n",
    "\n",
    "Preprocessing: normalized "
   ]
  },
  {
   "cell_type": "markdown",
   "metadata": {},
   "source": [
    "* __Synthetic data__\n",
    "\n",
    "Data type: synthetic\n",
    "\n",
    "Source: Zwiessele M, Lawrence ND. Topslam: Waddington Landscape Recovery for Single Cell Experiments. <doi:10.1101/057778.>\n",
    "\n",
    "The 5 datasets were simulated using the function \"simulate_new_Y_qPCR\" with 5 differentiation patterns of cells (Fig. 2 in Topslam paper). \n",
    "\n",
    "Number of cells: 438-490<br> \n",
    "Number of genes: 48\n",
    "\n",
    "Description: Simulated differentiation processes along cell stages\n",
    "\n",
    "Stages: timporal information \n",
    "\n",
    "Preprocessing: None"
   ]
  },
  {
   "cell_type": "markdown",
   "metadata": {},
   "source": [
    "* __Yan2013__\n",
    "\n",
    "Data type: scRNA-seq\n",
    "\n",
    "Source: Yan L, Yang M, Guo H, et al. Single-cell RNA-Seq profiling of human preimplantation embryos and embryonic stem cells. Nat Publ Gr. 2013. <doi:10.1038/nsmb.2660.>\n",
    "\n",
    "Number of cells: 124<br> \n",
    "Number of genes: 125\n",
    "\n",
    "Description: human preimplantation embryos and human embryonic stem cells (hESCs)\n",
    "\n",
    "Stages: Oocyte, Zygote, 2-cell, 4-cell, 8-cell, Morulae, Late blastocyst and hESC\n",
    "\n",
    "Preprocessing: normalized; differentially expressed genes"
   ]
  },
  {
   "cell_type": "markdown",
   "metadata": {},
   "source": [
    "* __LPS__\n",
    "\n",
    "Data type: scRNA-seq\n",
    "\n",
    "Source: Amit I, Garber M, Chevrier N, et al. Unbiased Reconstruction of a Mammalian Transcriptional Network Mediating Pathogen Responses. Science (80- ). 2009;326(5950):257-263. <doi:10.1126/science.1179050.>\n",
    "\n",
    "Number of cells: 131<br> \n",
    "Number of genes: 42\n",
    "\n",
    "Description: primary mammalian cells, Unstimulated cells and stimulated cells \n",
    "\n",
    "Stages: no timporal information, two types of cells\n",
    "\n",
    "Preprocessing: filter out genes with low variances; normalized"
   ]
  },
  {
   "cell_type": "markdown",
   "metadata": {},
   "source": [
    "* __HSMM__ \n",
    "\n",
    "Data type: scRNA-seq\n",
    "\n",
    "Source: Trapnell C, Cacchiarelli D, Grimsby J, et al. The dynamics and regulators of cell fate decisions are revealed by pseudotemporal ordering of single cells. Nat Biotechnol. 2014;32(4):381-386. <doi:10.1038/nbt.2859.>\n",
    "\n",
    "Number of cells: 271<br> \n",
    "Number of genes: 53\n",
    "\n",
    "Description: differentiation of primary human myoblasts\n",
    "Stages: no timporal information; four types, labeled T1, T2, T3 and T4 respectively\n",
    "\n",
    "\n",
    "Preprocessing: filter out genes with low variances; normalized"
   ]
  },
  {
   "cell_type": "markdown",
   "metadata": {},
   "source": [
    "* __ES_MEF__\n",
    "\n",
    "Data type: scRNA-seq\n",
    "\n",
    "Source: Islam S, Kjällquist U, Moliner A, et al. Characterization of the single-cell transcriptional landscape by highly multiplex RNA-seq. Genome Res. 2011;21(7):1160-1167. <doi:10.1101/gr.110882.110.>\n",
    "\n",
    "We collected this dataset from Topslam sample data\n",
    "\n",
    "Number of cells: 92<br> \n",
    "Number of genes: 35\n",
    "\n",
    "Description: embryonic stem cells \n",
    "\n",
    "Stages: no timporal information; two types\n",
    "\n",
    "Preprocessing: filter out genes with low variances; normalized\n",
    "\n"
   ]
  },
  {
   "cell_type": "markdown",
   "metadata": {},
   "source": [
    "## Results"
   ]
  },
  {
   "cell_type": "markdown",
   "metadata": {},
   "source": [
    "__Data: Deng2014__"
   ]
  },
  {
   "cell_type": "markdown",
   "metadata": {},
   "source": [
    "![landscape](results/deng2014/landscape.jpg)"
   ]
  },
  {
   "cell_type": "markdown",
   "metadata": {},
   "source": [
    "![clustering](results/deng2014/clustering.jpg)"
   ]
  },
  {
   "cell_type": "markdown",
   "metadata": {},
   "source": [
    "![spanning tree](results/deng2014/spanning_tree.jpg)"
   ]
  },
  {
   "cell_type": "markdown",
   "metadata": {},
   "source": [
    "![weight matrix](results/deng2014/weight_matrix.jpg)"
   ]
  },
  {
   "cell_type": "markdown",
   "metadata": {},
   "source": [
    "__Top 10 key interactions identified from the weight matrix ranked by\n",
    "the absolute value of weight in CHN__\n",
    "#1 Lsm7   Tmem41b\n",
    "#2 Gm5662   Gm5662\n",
    "#3 Uqcr11   Tmem41b\n",
    "#4 Cox6b1   Tmem41b\n",
    "#5 Gm5662   Psma7\n",
    "#6 Atp5k   Tmem41b\n",
    "#7 Tmem41b   Tmem41b\n",
    "#8 Gm5662   Ndufc2\n",
    "#9 Atp5e   Tmem41b\n",
    "#10 Cox6c   Tmem41b"
   ]
  },
  {
   "cell_type": "markdown",
   "metadata": {},
   "source": [
    "![contour plot](results/deng2014/mapping_gene_expression_1.jpg)"
   ]
  },
  {
   "cell_type": "code",
   "execution_count": null,
   "metadata": {},
   "outputs": [],
   "source": []
  }
 ],
 "metadata": {
  "kernelspec": {
   "display_name": "Python 3",
   "language": "python",
   "name": "python3"
  },
  "language_info": {
   "codemirror_mode": {
    "name": "ipython",
    "version": 3
   },
   "file_extension": ".py",
   "mimetype": "text/x-python",
   "name": "python",
   "nbconvert_exporter": "python",
   "pygments_lexer": "ipython3",
   "version": "3.7.3"
  },
  "toc": {
   "base_numbering": 1,
   "nav_menu": {},
   "number_sections": true,
   "sideBar": true,
   "skip_h1_title": false,
   "title_cell": "Table of Contents",
   "title_sidebar": "Contents",
   "toc_cell": false,
   "toc_position": {
    "height": "calc(100% - 180px)",
    "left": "10px",
    "top": "150px",
    "width": "204.4px"
   },
   "toc_section_display": true,
   "toc_window_display": true
  }
 },
 "nbformat": 4,
 "nbformat_minor": 2
}
